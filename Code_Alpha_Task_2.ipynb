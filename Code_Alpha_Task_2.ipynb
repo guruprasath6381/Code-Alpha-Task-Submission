{
  "nbformat": 4,
  "nbformat_minor": 0,
  "metadata": {
    "colab": {
      "provenance": []
    },
    "kernelspec": {
      "name": "python3",
      "display_name": "Python 3"
    },
    "language_info": {
      "name": "python"
    }
  },
  "cells": [
    {
      "cell_type": "code",
      "execution_count": null,
      "metadata": {
        "colab": {
          "base_uri": "https://localhost:8080/"
        },
        "id": "lWvLefuthj6V",
        "outputId": "c8fc739d-c1a8-4eb2-82dd-5c80bf7a64ba"
      },
      "outputs": [
        {
          "output_type": "stream",
          "name": "stdout",
          "text": [
            "📈 Welcome to the Stock Portfolio Tracker!\n",
            "Available stocks: AAPL, TSLA, GOOGL, MSFT, AMZN\n",
            "Type 'done' when you are finished entering stocks.\n",
            "\n",
            "Enter stock symbol (e.g., AAPL): AAPL\n",
            "Enter quantity of AAPL: 180\n",
            "Enter stock symbol (e.g., AAPL): TSLA\n",
            "Enter quantity of TSLA: 250\n",
            "Enter stock symbol (e.g., AAPL): done\n",
            "\n",
            "🧾 Portfolio Summary:\n",
            "AAPL: 180 shares x $180 = $32400\n",
            "TSLA: 250 shares x $250 = $62500\n",
            "\n",
            "💰 Total Investment Value: $94900\n",
            "\n",
            "Do you want to save the result to a file? (y/n): y\n",
            "✅ Portfolio summary saved to 'portfolio_summary.txt'\n"
          ]
        }
      ],
      "source": [
        "stock_prices = {\n",
        "    \"AAPL\": 180,\n",
        "    \"TSLA\": 250,\n",
        "    \"GOOGL\": 140,\n",
        "    \"MSFT\": 330,\n",
        "    \"AMZN\": 125\n",
        "}\n",
        "\n",
        "portfolio = {}\n",
        "\n",
        "print(\"📈 Welcome to the Stock Portfolio Tracker!\")\n",
        "print(\"Available stocks:\", ', '.join(stock_prices.keys()))\n",
        "print(\"Type 'done' when you are finished entering stocks.\\n\")\n",
        "\n",
        "while True:\n",
        "    stock = input(\"Enter stock symbol (e.g., AAPL): \").upper()\n",
        "    if stock == \"DONE\":\n",
        "        break\n",
        "    if stock not in stock_prices:\n",
        "        print(\"❗ Stock not found. Please choose from the available list.\")\n",
        "        continue\n",
        "    try:\n",
        "        quantity = int(input(f\"Enter quantity of {stock}: \"))\n",
        "        if quantity < 0:\n",
        "            print(\"❗ Quantity cannot be negative.\")\n",
        "            continue\n",
        "        if stock in portfolio:\n",
        "            portfolio[stock] += quantity\n",
        "        else:\n",
        "            portfolio[stock] = quantity\n",
        "    except ValueError:\n",
        "        print(\"❗ Please enter a valid number.\")\n",
        "\n",
        "total_value = 0\n",
        "print(\"\\n🧾 Portfolio Summary:\")\n",
        "for stock, qty in portfolio.items():\n",
        "    price = stock_prices[stock]\n",
        "    value = price * qty\n",
        "    total_value += value\n",
        "    print(f\"{stock}: {qty} shares x ${price} = ${value}\")\n",
        "\n",
        "print(f\"\\n💰 Total Investment Value: ${total_value}\")\n",
        "\n",
        "save = input(\"\\nDo you want to save the result to a file? (y/n): \").lower()\n",
        "if save == 'y':\n",
        "    with open(\"portfolio_summary.txt\", \"w\") as file:\n",
        "        file.write(\"Portfolio Summary:\\n\")\n",
        "        for stock, qty in portfolio.items():\n",
        "            price = stock_prices[stock]\n",
        "            value = price * qty\n",
        "            file.write(f\"{stock}: {qty} shares x ${price} = ${value}\\n\")\n",
        "        file.write(f\"\\nTotal Investment Value: ${total_value}\\n\")\n",
        "    print(\"✅ Portfolio summary saved to 'portfolio_summary.txt'\")"
      ]
    }
  ]
}