{
  "nbformat": 4,
  "nbformat_minor": 0,
  "metadata": {
    "colab": {
      "provenance": []
    },
    "kernelspec": {
      "name": "python3",
      "display_name": "Python 3"
    },
    "language_info": {
      "name": "python"
    }
  },
  "cells": [
    {
      "cell_type": "code",
      "execution_count": null,
      "metadata": {
        "colab": {
          "base_uri": "https://localhost:8080/"
        },
        "id": "DOxqIws1X5lJ",
        "outputId": "a3a28ecc-7ad2-43da-b000-83bf8d33eac4"
      },
      "outputs": [
        {
          "output_type": "stream",
          "name": "stdout",
          "text": [
            "❌ Error: File 'input_text.txt' not found.\n"
          ]
        }
      ],
      "source": [
        "import re\n",
        "\n",
        "input_file = \"input_text.txt\"\n",
        "output_file = \"emails_found.txt\"\n",
        "\n",
        "email_pattern = r'[a-zA-Z0-9_.+-]+@[a-zA-Z0-9-]+\\.[a-zA-Z0-9-.]+'\n",
        "\n",
        "try:\n",
        "    with open(input_file, 'r') as file:\n",
        "        content = file.read()\n",
        "        emails = re.findall(email_pattern, content)\n",
        "\n",
        "    unique_emails = sorted(set(emails))\n",
        "\n",
        "    with open(output_file, 'w') as file:\n",
        "        for email in unique_emails:\n",
        "            file.write(email + '\\n')\n",
        "\n",
        "    print(f\"✅ Found {len(unique_emails)} unique email(s). Saved to '{output_file}'.\")\n",
        "\n",
        "except FileNotFoundError:\n",
        "    print(f\"❌ Error: File '{input_file}' not found.\")\n",
        "except Exception as e:\n",
        "    print(f\"⚠️ An unexpected error occurred: {e}\")\n"
      ]
    }
  ]
}