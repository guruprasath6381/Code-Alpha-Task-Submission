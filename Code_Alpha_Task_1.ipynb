{
  "nbformat": 4,
  "nbformat_minor": 0,
  "metadata": {
    "colab": {
      "provenance": []
    },
    "kernelspec": {
      "name": "python3",
      "display_name": "Python 3"
    },
    "language_info": {
      "name": "python"
    }
  },
  "cells": [
    {
      "cell_type": "code",
      "execution_count": null,
      "metadata": {
        "colab": {
          "base_uri": "https://localhost:8080/"
        },
        "id": "alKGQcZMgscB",
        "outputId": "b879f415-c266-4388-d5b8-4381cd42b759"
      },
      "outputs": [
        {
          "output_type": "stream",
          "name": "stdout",
          "text": [
            "🎮 Welcome to Hangman!\n",
            "Guess the word, one letter at a time.\n",
            "You have 6 incorrect guesses. Good luck!\n",
            "\n",
            "Current word: _ _ _ _ _ _\n",
            "Enter a letter: A\n",
            "❌ Incorrect! You have 5 attempts left.\n",
            "\n",
            "Current word: _ _ _ _ _ _\n",
            "Enter a letter: S\n",
            "❌ Incorrect! You have 4 attempts left.\n",
            "\n",
            "Current word: _ _ _ _ _ _\n",
            "Enter a letter: C\n",
            "✅ Good guess!\n",
            "\n",
            "Current word: c _ _ _ _ _\n",
            "Enter a letter: H\n",
            "✅ Good guess!\n",
            "\n",
            "Current word: c h _ _ _ _\n",
            "Enter a letter: E\n",
            "✅ Good guess!\n",
            "\n",
            "Current word: c h e _ _ _\n",
            "Enter a letter: R\n",
            "✅ Good guess!\n",
            "\n",
            "Current word: c h e r r _\n",
            "Enter a letter: R\n",
            "🔁 You've already guessed that letter. Try a different one.\n",
            "\n",
            "Current word: c h e r r _\n",
            "Enter a letter: Y\n",
            "✅ Good guess!\n",
            "\n",
            "🎉 Congratulations! You guessed the word: cherry\n"
          ]
        }
      ],
      "source": [
        "import random\n",
        "\n",
        "word_list = [\"apple\", \"banana\", \"cherry\", \"grape\", \"orange\"]\n",
        "\n",
        "secret_word = random.choice(word_list)\n",
        "guessed_letters = []\n",
        "attempts_remaining = 6\n",
        "\n",
        "display_word = [\"_\"] * len(secret_word)\n",
        "\n",
        "print(\"🎮 Welcome to Hangman!\")\n",
        "print(\"Guess the word, one letter at a time.\")\n",
        "print(\"You have 6 incorrect guesses. Good luck!\")\n",
        "\n",
        "while attempts_remaining > 0 and \"_\" in display_word:\n",
        "    print(\"\\nCurrent word:\", \" \".join(display_word))\n",
        "    guess = input(\"Enter a letter: \").lower()\n",
        "\n",
        "    if not guess.isalpha() or len(guess) != 1:\n",
        "        print(\"❗ Please enter a single alphabetic character.\")\n",
        "        continue\n",
        "\n",
        "    if guess in guessed_letters:\n",
        "        print(\"🔁 You've already guessed that letter. Try a different one.\")\n",
        "        continue\n",
        "\n",
        "    guessed_letters.append(guess)\n",
        "\n",
        "    if guess in secret_word:\n",
        "        print(\"✅ Good guess!\")\n",
        "        for index, letter in enumerate(secret_word):\n",
        "            if letter == guess:\n",
        "                display_word[index] = guess\n",
        "    else:\n",
        "        attempts_remaining -= 1\n",
        "        print(f\"❌ Incorrect! You have {attempts_remaining} attempts left.\")\n",
        "\\\n",
        "if \"_\" not in display_word:\n",
        "    print(\"\\n🎉 Congratulations! You guessed the word:\", secret_word)\n",
        "else:\n",
        "    print(\"\\n💀 Game Over! The correct word was:\", secret_word)"
      ]
    }
  ]
}